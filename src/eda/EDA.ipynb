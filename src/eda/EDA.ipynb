{
 "cells": [
  {
   "cell_type": "code",
   "execution_count": 1,
   "id": "fa77d530-5e02-46fe-9c74-d93b9a4ed2b7",
   "metadata": {},
   "outputs": [],
   "source": [
    "import wandb\n",
    "import pandas as pd\n",
    "import pandas_profiling"
   ]
  },
  {
   "cell_type": "markdown",
   "id": "f7b30ecd-c7ec-434a-aae3-1c1ae5b2eb16",
   "metadata": {},
   "source": [
    "**load sample.csv artifact**"
   ]
  },
  {
   "cell_type": "code",
   "execution_count": 2,
   "id": "d4eaf2c4-03fe-4a19-8da0-f1beeaa77cff",
   "metadata": {},
   "outputs": [
    {
     "name": "stderr",
     "output_type": "stream",
     "text": [
      "\u001b[34m\u001b[1mwandb\u001b[0m: Currently logged in as: \u001b[33mmbvanleeuwen2003\u001b[0m (\u001b[33mmy_wandb_page\u001b[0m). Use \u001b[1m`wandb login --relogin`\u001b[0m to force relogin\n"
     ]
    },
    {
     "data": {
      "application/vnd.jupyter.widget-view+json": {
       "model_id": "fde03c672bcb4c4db0893c61ecaeedb8",
       "version_major": 2,
       "version_minor": 0
      },
      "text/plain": [
       "VBox(children=(Label(value='Waiting for wandb.init()...\\r'), FloatProgress(value=0.011113081533332863, max=1.0…"
      ]
     },
     "metadata": {},
     "output_type": "display_data"
    },
    {
     "data": {
      "text/html": [
       "wandb version 0.17.0 is available!  To upgrade, please run:\n",
       " $ pip install wandb --upgrade"
      ],
      "text/plain": [
       "<IPython.core.display.HTML object>"
      ]
     },
     "metadata": {},
     "output_type": "display_data"
    },
    {
     "data": {
      "text/html": [
       "Tracking run with wandb version 0.16.0"
      ],
      "text/plain": [
       "<IPython.core.display.HTML object>"
      ]
     },
     "metadata": {},
     "output_type": "display_data"
    },
    {
     "data": {
      "text/html": [
       "Run data is saved locally in <code>/home/mbunix/git/project_2/src/eda/wandb/run-20240520_143817-6767sdnm</code>"
      ],
      "text/plain": [
       "<IPython.core.display.HTML object>"
      ]
     },
     "metadata": {},
     "output_type": "display_data"
    },
    {
     "data": {
      "text/html": [
       "Syncing run <strong><a href='https://wandb.ai/my_wandb_page/nyc_airbnb/runs/6767sdnm' target=\"_blank\">ancient-silence-13</a></strong> to <a href='https://wandb.ai/my_wandb_page/nyc_airbnb' target=\"_blank\">Weights & Biases</a> (<a href='https://wandb.me/run' target=\"_blank\">docs</a>)<br/>"
      ],
      "text/plain": [
       "<IPython.core.display.HTML object>"
      ]
     },
     "metadata": {},
     "output_type": "display_data"
    },
    {
     "data": {
      "text/html": [
       " View project at <a href='https://wandb.ai/my_wandb_page/nyc_airbnb' target=\"_blank\">https://wandb.ai/my_wandb_page/nyc_airbnb</a>"
      ],
      "text/plain": [
       "<IPython.core.display.HTML object>"
      ]
     },
     "metadata": {},
     "output_type": "display_data"
    },
    {
     "data": {
      "text/html": [
       " View run at <a href='https://wandb.ai/my_wandb_page/nyc_airbnb/runs/6767sdnm' target=\"_blank\">https://wandb.ai/my_wandb_page/nyc_airbnb/runs/6767sdnm</a>"
      ],
      "text/plain": [
       "<IPython.core.display.HTML object>"
      ]
     },
     "metadata": {},
     "output_type": "display_data"
    }
   ],
   "source": [
    "run = wandb.init(project=\"nyc_airbnb\", group=\"eda\", save_code=True)\n",
    "local_path = wandb.use_artifact(\"sample.csv:latest\").file()\n",
    "df = pd.read_csv(local_path)"
   ]
  },
  {
   "cell_type": "markdown",
   "id": "97e2f675-bcc2-4eaf-ae1a-2395f8ecf769",
   "metadata": {},
   "source": [
    "**create profile report of the data**"
   ]
  },
  {
   "cell_type": "code",
   "execution_count": null,
   "id": "8e7d16c9-7712-4ecc-98c7-8767d635ee10",
   "metadata": {},
   "outputs": [
    {
     "data": {
      "application/vnd.jupyter.widget-view+json": {
       "model_id": "974e16c8ccaf4174a5a60a3cd1d3bce7",
       "version_major": 2,
       "version_minor": 0
      },
      "text/plain": [
       "Summarize dataset:   0%|          | 0/5 [00:00<?, ?it/s]"
      ]
     },
     "metadata": {},
     "output_type": "display_data"
    }
   ],
   "source": [
    "profile = pandas_profiling.ProfileReport(df)\n",
    "profile.to_notebook_iframe()"
   ]
  },
  {
   "cell_type": "markdown",
   "id": "62270117-bf85-45d6-8fdb-b5cc8b6d6389",
   "metadata": {},
   "source": [
    "**remove Nans from last_review (: new value = 2000-01-01) and reviews_per_month (: new value = 0)**"
   ]
  },
  {
   "cell_type": "code",
   "execution_count": null,
   "id": "3a81b229-9854-4040-a475-94a351b6eba7",
   "metadata": {},
   "outputs": [],
   "source": [
    "df['last_review'].fillna(value='2000-01-01', inplace=True)\n",
    "df['reviews_per_month'].fillna(value=0, inplace=True)"
   ]
  },
  {
   "cell_type": "markdown",
   "id": "e3b607c8-f533-4fd4-bef9-ba2ebefc076e",
   "metadata": {},
   "source": [
    "**finish run**"
   ]
  },
  {
   "cell_type": "code",
   "execution_count": null,
   "id": "6d99e937-1c3d-4169-b0d1-bb00bf50ddd4",
   "metadata": {},
   "outputs": [],
   "source": [
    "run.finish()"
   ]
  },
  {
   "cell_type": "code",
   "execution_count": null,
   "id": "4799dbd5-9d13-4a36-933b-388177a4c57d",
   "metadata": {},
   "outputs": [],
   "source": []
  }
 ],
 "metadata": {
  "kernelspec": {
   "display_name": "Python 3 (ipykernel)",
   "language": "python",
   "name": "python3"
  },
  "language_info": {
   "codemirror_mode": {
    "name": "ipython",
    "version": 3
   },
   "file_extension": ".py",
   "mimetype": "text/x-python",
   "name": "python",
   "nbconvert_exporter": "python",
   "pygments_lexer": "ipython3",
   "version": "3.10.14"
  }
 },
 "nbformat": 4,
 "nbformat_minor": 5
}
